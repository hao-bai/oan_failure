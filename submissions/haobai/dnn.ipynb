{
 "cells": [
  {
   "cell_type": "markdown",
   "metadata": {},
   "source": [
    "# Fully Connected Deep Neural Network\n",
    "## 预处理"
   ]
  },
  {
   "cell_type": "code",
   "execution_count": 1,
   "metadata": {},
   "outputs": [
    {
     "name": "stdout",
     "output_type": "stream",
     "text": [
      "Train data\n",
      "Optical Dataset composed of\n",
      "46110 source samples\n",
      "50862 source background samples\n",
      "438 target labeled samples\n",
      "8202 target unlabeled samples\n",
      "29592 target background samples\n",
      " Optical Dataset labels composed of\n",
      "46110 labels of source samples\n",
      "438 labels of target samples\n",
      "\n",
      "Test data\n",
      "Optical Dataset composed of\n",
      "0 source samples\n",
      "0 source background samples\n",
      "17758 target labeled samples\n",
      "0 target unlabeled samples\n",
      "47275 target background samples\n",
      " Optical Dataset labels composed of\n",
      "0 labels of source samples\n",
      "17758 labels of target samples\n",
      "\n"
     ]
    }
   ],
   "source": [
    "from load import load_all_dataset\n",
    "X_train, y_train, X_test, y_test = load_all_dataset()\n",
    "import numpy as np\n",
    "np.set_printoptions(formatter={\"float\":lambda x: \"{:.3f}\".format(x)})"
   ]
  },
  {
   "cell_type": "code",
   "execution_count": 2,
   "metadata": {},
   "outputs": [],
   "source": [
    "import tensorflow as tf\n",
    "from tensorflow.keras import layers"
   ]
  },
  {
   "cell_type": "code",
   "execution_count": 3,
   "metadata": {},
   "outputs": [
    {
     "data": {
      "text/plain": [
       "(438, 6720, 1)"
      ]
     },
     "execution_count": 3,
     "metadata": {},
     "output_type": "execute_result"
    }
   ],
   "source": [
    "# 去除NaN\n",
    "from feature_extractor import FeatureExtractor\n",
    "from numpy import newaxis\n",
    "class FE(FeatureExtractor):\n",
    "    def transform(self, X):\n",
    "        np.nan_to_num(X, copy=False)\n",
    "        X = X.reshape(X.shape[0], -1)\n",
    "        return X[:,:,newaxis]\n",
    "\n",
    "fe = FE()\n",
    "X_train.source = fe.transform(X_train.source)\n",
    "X_train.target = fe.transform(X_train.target)\n",
    "X_test.target = fe.transform(X_test.target)\n",
    "X_train.target.shape"
   ]
  },
  {
   "cell_type": "code",
   "execution_count": 16,
   "metadata": {},
   "outputs": [
    {
     "ename": "AttributeError",
     "evalue": "'RepeatDataset' object has no attribute 'shape'",
     "output_type": "error",
     "traceback": [
      "\u001b[0;31m---------------------------------------------------------------------------\u001b[0m",
      "\u001b[0;31mAttributeError\u001b[0m                            Traceback (most recent call last)",
      "\u001b[0;32m<ipython-input-16-944820a1e7f6>\u001b[0m in \u001b[0;36m<module>\u001b[0;34m\u001b[0m\n\u001b[1;32m      8\u001b[0m \u001b[0mtrain_dataset\u001b[0m \u001b[0;34m=\u001b[0m \u001b[0mtrain_dataset\u001b[0m\u001b[0;34m.\u001b[0m\u001b[0mrepeat\u001b[0m\u001b[0;34m(\u001b[0m\u001b[0;34m)\u001b[0m\u001b[0;34m\u001b[0m\u001b[0;34m\u001b[0m\u001b[0m\n\u001b[1;32m      9\u001b[0m \u001b[0mvalid_dataset\u001b[0m \u001b[0;34m=\u001b[0m \u001b[0mvalid_dataset\u001b[0m\u001b[0;34m.\u001b[0m\u001b[0mrepeat\u001b[0m\u001b[0;34m(\u001b[0m\u001b[0;34m)\u001b[0m\u001b[0;34m\u001b[0m\u001b[0;34m\u001b[0m\u001b[0m\n\u001b[0;32m---> 10\u001b[0;31m \u001b[0mtrain_dataset\u001b[0m\u001b[0;34m.\u001b[0m\u001b[0mshape\u001b[0m\u001b[0;34m\u001b[0m\u001b[0;34m\u001b[0m\u001b[0m\n\u001b[0m",
      "\u001b[0;31mAttributeError\u001b[0m: 'RepeatDataset' object has no attribute 'shape'"
     ]
    }
   ],
   "source": [
    "# 将数据集转换为TensorFlow格式\n",
    "train_dataset = tf.data.Dataset.from_tensor_slices((X_train.source, y_train.source)).batch(16)\n",
    "valid_dataset = tf.data.Dataset.from_tensor_slices((X_train.target, y_train.target)).batch(16)\n",
    "test_dataset = tf.data.Dataset.from_tensor_slices((X_test.target, y_test.target))\n",
    "\n",
    "# 额外操作\n",
    "train_dataset = train_dataset.map( lambda x, y: (tf.image.random_flip_left_right(x), y) ) # array must be 3D\n",
    "train_dataset = train_dataset.repeat()\n",
    "valid_dataset = valid_dataset.repeat()"
   ]
  },
  {
   "cell_type": "markdown",
   "metadata": {},
   "source": [
    "## 搭建网络模型\n",
    "参考资料\n",
    "\n",
    "1. [Build your first Neural Network in TensorFlow 2](https://towardsdatascience.com/building-your-first-neural-network-in-tensorflow-2-tensorflow-for-hackers-part-i-e1e2f1dfe7a0)"
   ]
  },
  {
   "cell_type": "code",
   "execution_count": 11,
   "metadata": {},
   "outputs": [
    {
     "name": "stdout",
     "output_type": "stream",
     "text": [
      "Model: \"sequential_1\"\n",
      "_________________________________________________________________\n",
      "Layer (type)                 Output Shape              Param #   \n",
      "=================================================================\n",
      "Input_Layer (Flatten)        (None, 6720)              0         \n",
      "_________________________________________________________________\n",
      "Layer1 (Dense)               (None, 256)               1720576   \n",
      "_________________________________________________________________\n",
      "Layer2 (Dense)               (None, 256)               65792     \n",
      "_________________________________________________________________\n",
      "Layer3 (Dense)               (None, 256)               65792     \n",
      "_________________________________________________________________\n",
      "Layer4 (Dense)               (None, 256)               65792     \n",
      "_________________________________________________________________\n",
      "Layer5 (Dense)               (None, 256)               65792     \n",
      "_________________________________________________________________\n",
      "Layer6 (Dense)               (None, 256)               65792     \n",
      "_________________________________________________________________\n",
      "Layer7 (Dense)               (None, 256)               65792     \n",
      "_________________________________________________________________\n",
      "Layer8 (Dense)               (None, 256)               65792     \n",
      "_________________________________________________________________\n",
      "Layer9 (Dense)               (None, 256)               65792     \n",
      "_________________________________________________________________\n",
      "Layer10 (Dense)              (None, 256)               65792     \n",
      "_________________________________________________________________\n",
      "Layer-1 (Dropout)            (None, 256)               0         \n",
      "_________________________________________________________________\n",
      "Output_Layer (Dense)         (None, 1)                 257       \n",
      "=================================================================\n",
      "Total params: 2,312,961\n",
      "Trainable params: 2,312,961\n",
      "Non-trainable params: 0\n",
      "_________________________________________________________________\n"
     ]
    }
   ],
   "source": [
    "# Sequential groups a linear stack of layers into a tf.keras.Model.\n",
    "# https://www.tensorflow.org/api_docs/python/tf/keras/Sequential\n",
    "model = tf.keras.Sequential()\n",
    "model.add( layers.Flatten(input_shape=(6720,), name=\"Input_Layer\") )\n",
    "\n",
    "num_fully_connected_layers = 10\n",
    "for i in range(num_fully_connected_layers):\n",
    "    model.add( layers.Dense(256, activation=\"relu\", name=\"Layer{}\".format(i+1)) )\n",
    "\n",
    "model.add( layers.Dropout(0.5, name=\"Layer-1\"))\n",
    "model.add( layers.Dense(1, activation='softmax', name=\"Output_Layer\") )\n",
    "model.summary()"
   ]
  },
  {
   "cell_type": "markdown",
   "metadata": {},
   "source": [
    "## 训练模型\n",
    "'categorical_crossentropy' is much better than 'binary_crossentropy'"
   ]
  },
  {
   "cell_type": "code",
   "execution_count": 12,
   "metadata": {},
   "outputs": [
    {
     "name": "stdout",
     "output_type": "stream",
     "text": [
      "Epoch 1/100\n",
      "200/200 [==============================] - 2s 8ms/step - loss: nan - acc: 0.3525 - val_loss: nan - val_acc: 0.7083\n",
      "Epoch 2/100\n",
      "200/200 [==============================] - 1s 6ms/step - loss: nan - acc: 0.9084 - val_loss: nan - val_acc: 0.7083\n",
      "Epoch 3/100\n",
      "200/200 [==============================] - 1s 6ms/step - loss: nan - acc: 0.9203 - val_loss: nan - val_acc: 0.7083\n",
      "Epoch 4/100\n",
      "200/200 [==============================] - 1s 6ms/step - loss: nan - acc: 0.9172 - val_loss: nan - val_acc: 0.7083\n",
      "Epoch 5/100\n",
      "200/200 [==============================] - 1s 6ms/step - loss: nan - acc: 0.9209 - val_loss: nan - val_acc: 0.7083\n",
      "Epoch 6/100\n",
      "200/200 [==============================] - 1s 6ms/step - loss: nan - acc: 0.9256 - val_loss: nan - val_acc: 0.7083\n",
      "Epoch 7/100\n",
      "200/200 [==============================] - 1s 6ms/step - loss: nan - acc: 0.9219 - val_loss: nan - val_acc: 0.7083\n",
      "Epoch 8/100\n",
      "200/200 [==============================] - 1s 6ms/step - loss: nan - acc: 0.9084 - val_loss: nan - val_acc: 0.7083\n",
      "Epoch 9/100\n",
      "200/200 [==============================] - 1s 6ms/step - loss: nan - acc: 0.8938 - val_loss: nan - val_acc: 0.7083\n",
      "Epoch 10/100\n",
      "200/200 [==============================] - 1s 6ms/step - loss: nan - acc: 0.8819 - val_loss: nan - val_acc: 0.7083\n",
      "Epoch 11/100\n",
      "200/200 [==============================] - 1s 6ms/step - loss: nan - acc: 0.8759 - val_loss: nan - val_acc: 0.7083\n",
      "Epoch 12/100\n",
      "200/200 [==============================] - 1s 6ms/step - loss: nan - acc: 0.8678 - val_loss: nan - val_acc: 0.7083\n",
      "Epoch 13/100\n",
      "200/200 [==============================] - 1s 6ms/step - loss: nan - acc: 0.8716 - val_loss: nan - val_acc: 0.7083\n",
      "Epoch 14/100\n",
      "200/200 [==============================] - 1s 6ms/step - loss: nan - acc: 0.8641 - val_loss: nan - val_acc: 0.7083\n",
      "Epoch 15/100\n",
      "200/200 [==============================] - 1s 6ms/step - loss: nan - acc: 0.8727 - val_loss: nan - val_acc: 0.7083\n",
      "Epoch 16/100\n",
      "200/200 [==============================] - 1s 6ms/step - loss: nan - acc: 0.9031 - val_loss: nan - val_acc: 0.7083\n",
      "Epoch 17/100\n",
      "200/200 [==============================] - 1s 6ms/step - loss: nan - acc: 0.9175 - val_loss: nan - val_acc: 0.7083\n",
      "Epoch 18/100\n",
      "200/200 [==============================] - 1s 6ms/step - loss: nan - acc: 0.9175 - val_loss: nan - val_acc: 0.7083\n",
      "Epoch 19/100\n",
      "200/200 [==============================] - 1s 6ms/step - loss: nan - acc: 0.9228 - val_loss: nan - val_acc: 0.7083\n",
      "Epoch 20/100\n",
      "200/200 [==============================] - 1s 6ms/step - loss: nan - acc: 0.9206 - val_loss: nan - val_acc: 0.7083\n",
      "Epoch 21/100\n",
      "200/200 [==============================] - 1s 6ms/step - loss: nan - acc: 0.9241 - val_loss: nan - val_acc: 0.7083\n",
      "Epoch 22/100\n",
      "200/200 [==============================] - 1s 6ms/step - loss: nan - acc: 0.9137 - val_loss: nan - val_acc: 0.7083\n",
      "Epoch 23/100\n",
      "200/200 [==============================] - 1s 6ms/step - loss: nan - acc: 0.9016 - val_loss: nan - val_acc: 0.7083\n",
      "Epoch 24/100\n",
      "200/200 [==============================] - 1s 6ms/step - loss: nan - acc: 0.8859 - val_loss: nan - val_acc: 0.7083\n",
      "Epoch 25/100\n",
      "200/200 [==============================] - 1s 6ms/step - loss: nan - acc: 0.8794 - val_loss: nan - val_acc: 0.7083\n",
      "Epoch 26/100\n",
      "200/200 [==============================] - 1s 6ms/step - loss: nan - acc: 0.8703 - val_loss: nan - val_acc: 0.7083\n",
      "Epoch 27/100\n",
      "200/200 [==============================] - 1s 6ms/step - loss: nan - acc: 0.8725 - val_loss: nan - val_acc: 0.7083\n",
      "Epoch 28/100\n",
      "200/200 [==============================] - 1s 6ms/step - loss: nan - acc: 0.8641 - val_loss: nan - val_acc: 0.7083\n",
      "Epoch 29/100\n",
      "200/200 [==============================] - 1s 6ms/step - loss: nan - acc: 0.8627 - val_loss: nan - val_acc: 0.7083\n",
      "Epoch 30/100\n",
      "200/200 [==============================] - 1s 6ms/step - loss: nan - acc: 0.8966 - val_loss: nan - val_acc: 0.7083\n",
      "Epoch 31/100\n",
      "200/200 [==============================] - 1s 6ms/step - loss: nan - acc: 0.9091 - val_loss: nan - val_acc: 0.7083\n",
      "Epoch 32/100\n",
      "200/200 [==============================] - 1s 6ms/step - loss: nan - acc: 0.9222 - val_loss: nan - val_acc: 0.7083\n",
      "Epoch 33/100\n",
      "200/200 [==============================] - 1s 6ms/step - loss: nan - acc: 0.9162 - val_loss: nan - val_acc: 0.7083\n",
      "Epoch 34/100\n",
      "200/200 [==============================] - 1s 6ms/step - loss: nan - acc: 0.9234 - val_loss: nan - val_acc: 0.7083\n",
      "Epoch 35/100\n",
      "200/200 [==============================] - 1s 6ms/step - loss: nan - acc: 0.9250 - val_loss: nan - val_acc: 0.7083\n",
      "Epoch 36/100\n",
      "200/200 [==============================] - 1s 6ms/step - loss: nan - acc: 0.9178 - val_loss: nan - val_acc: 0.7083\n",
      "Epoch 37/100\n",
      "200/200 [==============================] - 1s 6ms/step - loss: nan - acc: 0.9066 - val_loss: nan - val_acc: 0.7083\n",
      "Epoch 38/100\n",
      "200/200 [==============================] - 1s 6ms/step - loss: nan - acc: 0.8919 - val_loss: nan - val_acc: 0.7083\n",
      "Epoch 39/100\n",
      "200/200 [==============================] - 1s 6ms/step - loss: nan - acc: 0.8813 - val_loss: nan - val_acc: 0.7083\n",
      "Epoch 40/100\n",
      "200/200 [==============================] - 1s 6ms/step - loss: nan - acc: 0.8744 - val_loss: nan - val_acc: 0.7083\n",
      "Epoch 41/100\n",
      "200/200 [==============================] - 1s 6ms/step - loss: nan - acc: 0.8678 - val_loss: nan - val_acc: 0.7083\n",
      "Epoch 42/100\n",
      "200/200 [==============================] - 1s 6ms/step - loss: nan - acc: 0.8719 - val_loss: nan - val_acc: 0.7083\n",
      "Epoch 43/100\n",
      "200/200 [==============================] - 1s 6ms/step - loss: nan - acc: 0.8572 - val_loss: nan - val_acc: 0.7083\n",
      "Epoch 44/100\n",
      "200/200 [==============================] - 1s 6ms/step - loss: nan - acc: 0.8818 - val_loss: nan - val_acc: 0.7083\n",
      "Epoch 45/100\n",
      "200/200 [==============================] - 1s 6ms/step - loss: nan - acc: 0.9081 - val_loss: nan - val_acc: 0.7083\n",
      "Epoch 46/100\n",
      "200/200 [==============================] - 1s 6ms/step - loss: nan - acc: 0.9184 - val_loss: nan - val_acc: 0.7083\n",
      "Epoch 47/100\n",
      "200/200 [==============================] - 1s 6ms/step - loss: nan - acc: 0.9197 - val_loss: nan - val_acc: 0.7083\n",
      "Epoch 48/100\n",
      "200/200 [==============================] - 1s 6ms/step - loss: nan - acc: 0.9200 - val_loss: nan - val_acc: 0.7083\n",
      "Epoch 49/100\n",
      "200/200 [==============================] - 1s 6ms/step - loss: nan - acc: 0.9209 - val_loss: nan - val_acc: 0.7083\n",
      "Epoch 50/100\n",
      "200/200 [==============================] - 1s 6ms/step - loss: nan - acc: 0.9250 - val_loss: nan - val_acc: 0.7083\n",
      "Epoch 51/100\n",
      "200/200 [==============================] - 1s 6ms/step - loss: nan - acc: 0.9128 - val_loss: nan - val_acc: 0.7083\n",
      "Epoch 52/100\n",
      "200/200 [==============================] - 1s 6ms/step - loss: nan - acc: 0.8966 - val_loss: nan - val_acc: 0.7083\n",
      "Epoch 53/100\n",
      "200/200 [==============================] - 1s 6ms/step - loss: nan - acc: 0.8838 - val_loss: nan - val_acc: 0.7083\n",
      "Epoch 54/100\n",
      "200/200 [==============================] - 1s 6ms/step - loss: nan - acc: 0.8775 - val_loss: nan - val_acc: 0.7083\n",
      "Epoch 55/100\n",
      "200/200 [==============================] - 1s 6ms/step - loss: nan - acc: 0.8697 - val_loss: nan - val_acc: 0.7083\n",
      "Epoch 56/100\n",
      "200/200 [==============================] - 1s 6ms/step - loss: nan - acc: 0.8712 - val_loss: nan - val_acc: 0.7083\n",
      "Epoch 57/100\n",
      "200/200 [==============================] - 1s 6ms/step - loss: nan - acc: 0.8644 - val_loss: nan - val_acc: 0.7083\n",
      "Epoch 58/100\n",
      "200/200 [==============================] - 1s 6ms/step - loss: nan - acc: 0.8684 - val_loss: nan - val_acc: 0.7083\n",
      "Epoch 59/100\n",
      "200/200 [==============================] - 1s 6ms/step - loss: nan - acc: 0.8969 - val_loss: nan - val_acc: 0.7083\n",
      "Epoch 60/100\n",
      "200/200 [==============================] - 1s 6ms/step - loss: nan - acc: 0.9162 - val_loss: nan - val_acc: 0.7083\n",
      "Epoch 61/100\n",
      "200/200 [==============================] - 1s 6ms/step - loss: nan - acc: 0.9175 - val_loss: nan - val_acc: 0.7083\n",
      "Epoch 62/100\n",
      "200/200 [==============================] - 1s 6ms/step - loss: nan - acc: 0.9191 - val_loss: nan - val_acc: 0.7083\n",
      "Epoch 63/100\n",
      "200/200 [==============================] - 1s 6ms/step - loss: nan - acc: 0.9225 - val_loss: nan - val_acc: 0.7083\n",
      "Epoch 64/100\n",
      "200/200 [==============================] - 1s 6ms/step - loss: nan - acc: 0.9275 - val_loss: nan - val_acc: 0.7083\n",
      "Epoch 65/100\n",
      "200/200 [==============================] - 1s 6ms/step - loss: nan - acc: 0.9159 - val_loss: nan - val_acc: 0.7083\n",
      "Epoch 66/100\n",
      "200/200 [==============================] - 1s 6ms/step - loss: nan - acc: 0.9044 - val_loss: nan - val_acc: 0.7083\n",
      "Epoch 67/100\n",
      "200/200 [==============================] - 1s 6ms/step - loss: nan - acc: 0.8878 - val_loss: nan - val_acc: 0.7083\n",
      "Epoch 68/100\n",
      "200/200 [==============================] - 1s 6ms/step - loss: nan - acc: 0.8816 - val_loss: nan - val_acc: 0.7083\n",
      "Epoch 69/100\n",
      "200/200 [==============================] - 1s 6ms/step - loss: nan - acc: 0.8687 - val_loss: nan - val_acc: 0.7083\n",
      "Epoch 70/100\n",
      "200/200 [==============================] - 1s 6ms/step - loss: nan - acc: 0.8725 - val_loss: nan - val_acc: 0.7083\n",
      "Epoch 71/100\n",
      "200/200 [==============================] - 1s 6ms/step - loss: nan - acc: 0.8684 - val_loss: nan - val_acc: 0.7083\n",
      "Epoch 72/100\n",
      "200/200 [==============================] - 1s 6ms/step - loss: nan - acc: 0.8587 - val_loss: nan - val_acc: 0.7083\n",
      "Epoch 73/100\n",
      "200/200 [==============================] - 1s 6ms/step - loss: nan - acc: 0.8893 - val_loss: nan - val_acc: 0.7083\n",
      "Epoch 74/100\n",
      "200/200 [==============================] - 1s 6ms/step - loss: nan - acc: 0.9072 - val_loss: nan - val_acc: 0.7083\n",
      "Epoch 75/100\n",
      "200/200 [==============================] - 1s 6ms/step - loss: nan - acc: 0.9194 - val_loss: nan - val_acc: 0.7083\n",
      "Epoch 76/100\n",
      "200/200 [==============================] - 1s 6ms/step - loss: nan - acc: 0.9187 - val_loss: nan - val_acc: 0.7083\n",
      "Epoch 77/100\n",
      "200/200 [==============================] - 1s 6ms/step - loss: nan - acc: 0.9228 - val_loss: nan - val_acc: 0.7083\n",
      "Epoch 78/100\n",
      "200/200 [==============================] - 1s 6ms/step - loss: nan - acc: 0.9237 - val_loss: nan - val_acc: 0.7083\n",
      "Epoch 79/100\n",
      "200/200 [==============================] - 1s 6ms/step - loss: nan - acc: 0.9200 - val_loss: nan - val_acc: 0.7083\n",
      "Epoch 80/100\n",
      "200/200 [==============================] - 1s 6ms/step - loss: nan - acc: 0.9103 - val_loss: nan - val_acc: 0.7083\n",
      "Epoch 81/100\n",
      "200/200 [==============================] - 1s 6ms/step - loss: nan - acc: 0.8953 - val_loss: nan - val_acc: 0.7083\n",
      "Epoch 82/100\n",
      "200/200 [==============================] - 1s 6ms/step - loss: nan - acc: 0.8822 - val_loss: nan - val_acc: 0.7083\n",
      "Epoch 83/100\n",
      "200/200 [==============================] - 1s 6ms/step - loss: nan - acc: 0.8753 - val_loss: nan - val_acc: 0.7083\n",
      "Epoch 84/100\n",
      "200/200 [==============================] - 1s 6ms/step - loss: nan - acc: 0.8678 - val_loss: nan - val_acc: 0.7083\n",
      "Epoch 85/100\n",
      "200/200 [==============================] - 1s 6ms/step - loss: nan - acc: 0.8716 - val_loss: nan - val_acc: 0.7083\n",
      "Epoch 86/100\n",
      "200/200 [==============================] - 1s 6ms/step - loss: nan - acc: 0.8650 - val_loss: nan - val_acc: 0.7083\n",
      "Epoch 87/100\n",
      "200/200 [==============================] - 1s 6ms/step - loss: nan - acc: 0.8721 - val_loss: nan - val_acc: 0.7083\n",
      "Epoch 88/100\n",
      "200/200 [==============================] - 1s 6ms/step - loss: nan - acc: 0.9009 - val_loss: nan - val_acc: 0.7083\n",
      "Epoch 89/100\n",
      "200/200 [==============================] - 1s 6ms/step - loss: nan - acc: 0.9184 - val_loss: nan - val_acc: 0.7083\n",
      "Epoch 90/100\n",
      "200/200 [==============================] - 1s 6ms/step - loss: nan - acc: 0.9175 - val_loss: nan - val_acc: 0.7083\n",
      "Epoch 91/100\n",
      "200/200 [==============================] - 1s 6ms/step - loss: nan - acc: 0.9219 - val_loss: nan - val_acc: 0.7083\n",
      "Epoch 92/100\n",
      "200/200 [==============================] - 1s 6ms/step - loss: nan - acc: 0.9203 - val_loss: nan - val_acc: 0.7083\n",
      "Epoch 93/100\n",
      "200/200 [==============================] - 1s 6ms/step - loss: nan - acc: 0.9244 - val_loss: nan - val_acc: 0.7083\n",
      "Epoch 94/100\n",
      "200/200 [==============================] - 1s 6ms/step - loss: nan - acc: 0.9144 - val_loss: nan - val_acc: 0.7083\n",
      "Epoch 95/100\n",
      "200/200 [==============================] - 1s 6ms/step - loss: nan - acc: 0.9019 - val_loss: nan - val_acc: 0.7083\n",
      "Epoch 96/100\n",
      "200/200 [==============================] - 1s 6ms/step - loss: nan - acc: 0.8859 - val_loss: nan - val_acc: 0.7083\n",
      "Epoch 97/100\n",
      "200/200 [==============================] - 1s 6ms/step - loss: nan - acc: 0.8825 - val_loss: nan - val_acc: 0.7083\n",
      "Epoch 98/100\n",
      "200/200 [==============================] - 1s 6ms/step - loss: nan - acc: 0.8694 - val_loss: nan - val_acc: 0.7083\n",
      "Epoch 99/100\n",
      "200/200 [==============================] - 1s 6ms/step - loss: nan - acc: 0.8716 - val_loss: nan - val_acc: 0.7083\n",
      "Epoch 100/100\n",
      "200/200 [==============================] - 1s 6ms/step - loss: nan - acc: 0.8628 - val_loss: nan - val_acc: 0.7083\n"
     ]
    },
    {
     "data": {
      "text/plain": [
       "<tensorflow.python.keras.callbacks.History at 0x7f85eff89a30>"
      ]
     },
     "execution_count": 12,
     "metadata": {},
     "output_type": "execute_result"
    }
   ],
   "source": [
    "import datetime as dt\n",
    "callbacks = [\n",
    "  # Write TensorBoard logs to `./logs` directory\n",
    "  tf.keras.callbacks.TensorBoard(log_dir='./log/{}'.format(\n",
    "      dt.datetime.now().strftime(\"%Y-%m-%d-%H-%M-%S DNN\")), write_images=True),\n",
    "  ]\n",
    "model.compile(optimizer=\"adam\",\n",
    "              loss='categorical_crossentropy',\n",
    "              metrics=['acc'])\n",
    "model.fit(train_dataset, epochs=100, steps_per_epoch=200,\n",
    "          validation_data=valid_dataset,\n",
    "          validation_steps=3, callbacks=callbacks)"
   ]
  },
  {
   "cell_type": "markdown",
   "metadata": {},
   "source": [
    "## 预测概率"
   ]
  },
  {
   "cell_type": "code",
   "execution_count": 20,
   "metadata": {},
   "outputs": [
    {
     "name": "stdout",
     "output_type": "stream",
     "text": [
      "(17758, 6720, 1)\n",
      "(17758, 6720)\n"
     ]
    },
    {
     "data": {
      "text/plain": [
       "array([[nan],\n",
       "       [nan],\n",
       "       [nan],\n",
       "       ...,\n",
       "       [nan],\n",
       "       [nan],\n",
       "       [nan]], dtype=float32)"
      ]
     },
     "execution_count": 20,
     "metadata": {},
     "output_type": "execute_result"
    }
   ],
   "source": [
    "print(X_test.target.shape)\n",
    "X = X_test.target.reshape(X_test.target.shape[0], -1)\n",
    "print(X.shape)\n",
    "model.predict(X)"
   ]
  },
  {
   "cell_type": "markdown",
   "metadata": {},
   "source": [
    "## 查看Tensorboard"
   ]
  },
  {
   "cell_type": "code",
   "execution_count": 14,
   "metadata": {},
   "outputs": [
    {
     "name": "stderr",
     "output_type": "stream",
     "text": [
      "UsageError: Line magic function `%tensorboard` not found.\n"
     ]
    }
   ],
   "source": [
    "%tensorboard"
   ]
  }
 ],
 "metadata": {
  "interpreter": {
   "hash": "77a176e6d68c62f570691917117cf1b3298ba06ea1b936eeef71e844f28195b2"
  },
  "kernelspec": {
   "display_name": "Python 3.8.10 64-bit ('huawei': conda)",
   "name": "python3"
  },
  "language_info": {
   "codemirror_mode": {
    "name": "ipython",
    "version": 3
   },
   "file_extension": ".py",
   "mimetype": "text/x-python",
   "name": "python",
   "nbconvert_exporter": "python",
   "pygments_lexer": "ipython3",
   "version": "3.8.10"
  }
 },
 "nbformat": 4,
 "nbformat_minor": 5
}