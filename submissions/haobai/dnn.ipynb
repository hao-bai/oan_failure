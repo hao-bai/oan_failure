{
 "cells": [
  {
   "cell_type": "markdown",
   "metadata": {},
   "source": [
    "# Fully Connected Deep Neural Network\n",
    "## 预处理"
   ]
  },
  {
   "cell_type": "code",
   "execution_count": 1,
   "metadata": {},
   "outputs": [
    {
     "name": "stdout",
     "output_type": "stream",
     "text": [
      "Train data\n",
      "Optical Dataset composed of\n",
      "46110 source samples\n",
      "50862 source background samples\n",
      "438 target labeled samples\n",
      "8202 target unlabeled samples\n",
      "29592 target background samples\n",
      " Optical Dataset labels composed of\n",
      "46110 labels of source samples\n",
      "438 labels of target samples\n",
      "\n",
      "Test data\n",
      "Optical Dataset composed of\n",
      "0 source samples\n",
      "0 source background samples\n",
      "17758 target labeled samples\n",
      "0 target unlabeled samples\n",
      "47275 target background samples\n",
      " Optical Dataset labels composed of\n",
      "0 labels of source samples\n",
      "17758 labels of target samples\n",
      "\n"
     ]
    }
   ],
   "source": [
    "from load import load_all_dataset\n",
    "X_train, y_train, X_test, y_test = load_all_dataset()\n",
    "import numpy as np\n",
    "np.set_printoptions(edgeitems=5,\n",
    "                    linewidth=1000,\n",
    "                    formatter={\"float\":lambda x: \"{:.3f}\".format(x)})"
   ]
  },
  {
   "cell_type": "code",
   "execution_count": 2,
   "metadata": {},
   "outputs": [],
   "source": [
    "import tensorflow as tf\n",
    "from tensorflow.keras import layers"
   ]
  },
  {
   "cell_type": "code",
   "execution_count": 3,
   "metadata": {},
   "outputs": [
    {
     "name": "stdout",
     "output_type": "stream",
     "text": [
      "X_train.source: (46110, 6720)\n",
      "X_train.target: (438, 6720)\n",
      "X_test.target: (17758, 6720)\n"
     ]
    }
   ],
   "source": [
    "# 去除NaN\n",
    "class FeatureExtractor:\n",
    "    def transform(self, X):\n",
    "        '''\n",
    "        Parameters\n",
    "        ----------\n",
    "        `X`: ndarray of (sample, 672, 10)\n",
    "            3D input dataset(sample, time, features)\n",
    "        \n",
    "        Returns\n",
    "        -------\n",
    "        `X`: ndarray of (sample, 6720)\n",
    "            The filtered dataset\n",
    "        '''\n",
    "        np.nan_to_num(X, copy=False)\n",
    "        X = X.reshape(X.shape[0], -1)\n",
    "        return X\n",
    "\n",
    "fe = FeatureExtractor()\n",
    "X_train.source = fe.transform(X_train.source)\n",
    "X_train.target = fe.transform(X_train.target)\n",
    "X_test.target = fe.transform(X_test.target)\n",
    "print(\"X_train.source:\", X_train.source.shape)\n",
    "print(\"X_train.target:\", X_train.target.shape)\n",
    "print(\"X_test.target:\", X_test.target.shape)"
   ]
  },
  {
   "cell_type": "code",
   "execution_count": 4,
   "metadata": {},
   "outputs": [],
   "source": [
    "# 将数据集转换为TensorFlow格式\n",
    "train_dataset = tf.data.Dataset.from_tensor_slices((X_train.source, y_train.source)).batch(16)\n",
    "valid_dataset = tf.data.Dataset.from_tensor_slices((X_train.target, y_train.target)).batch(16)\n",
    "test_dataset = tf.data.Dataset.from_tensor_slices((X_test.target, y_test.target))\n",
    "\n",
    "# 额外操作\n",
    "# train_dataset = train_dataset.map( lambda x, y: (tf.image.random_flip_left_right(x), y) ) # array must be 3D\n",
    "train_dataset = train_dataset.repeat()\n",
    "valid_dataset = valid_dataset.repeat()"
   ]
  },
  {
   "cell_type": "markdown",
   "metadata": {},
   "source": [
    "## 搭建网络模型\n",
    "参考资料\n",
    "\n",
    "1. [Build your first Neural Network in TensorFlow 2](https://towardsdatascience.com/building-your-first-neural-network-in-tensorflow-2-tensorflow-for-hackers-part-i-e1e2f1dfe7a0)"
   ]
  },
  {
   "cell_type": "code",
   "execution_count": 5,
   "metadata": {},
   "outputs": [],
   "source": [
    "# Sequential groups a linear stack of layers into a tf.keras.Model.\n",
    "# https://www.tensorflow.org/api_docs/python/tf/keras/Sequential\n",
    "model = tf.keras.Sequential()\n",
    "model.add( layers.Flatten(input_shape=(6720,), name=\"Input_Layer\") )\n",
    "\n",
    "num_fully_connected_layers = 10\n",
    "for i in range(num_fully_connected_layers):\n",
    "    model.add( layers.Dense(256, activation=\"relu\", name=\"Layer{}\".format(i+1)) )\n",
    "\n",
    "model.add( layers.Dropout(0.5, name=\"Layer-1\"))\n",
    "model.add( layers.Dense(1, activation='sigmoid', name=\"Output_Layer\") )\n",
    "\n",
    "model.compile(optimizer=\"adam\",\n",
    "              loss='binary_crossentropy',\n",
    "              metrics=['acc'])\n",
    "# model.summary()"
   ]
  },
  {
   "cell_type": "markdown",
   "metadata": {},
   "source": [
    "## 训练模型\n",
    "- if 'softmax' in the last layer, output is 0 or 1\n",
    "    - 'categorical_crossentropy' returns NaN, 'binary_crossentropy' acc ~ 0.1\n",
    "- if `'sigmoid'` in the last layer, output is the probability of 1\n",
    "    - 'categorical_crossentropy' returns NaN, `'binary_crossentropy'` acc ~ 0.8 to 0.9"
   ]
  },
  {
   "cell_type": "code",
   "execution_count": 6,
   "metadata": {},
   "outputs": [
    {
     "name": "stdout",
     "output_type": "stream",
     "text": [
      "Epoch 1/10\n",
      "20/20 [==============================] - 1s 17ms/step - loss: 96155.5234 - acc: 0.7156 - val_loss: 125621.5938 - val_acc: 0.7083\n",
      "Epoch 2/10\n",
      "20/20 [==============================] - 0s 8ms/step - loss: 28032.3027 - acc: 0.8125 - val_loss: 32221.4766 - val_acc: 0.7083\n",
      "Epoch 3/10\n",
      "20/20 [==============================] - 0s 7ms/step - loss: 15512.1777 - acc: 0.7375 - val_loss: 24648.7090 - val_acc: 0.7083\n",
      "Epoch 4/10\n",
      "20/20 [==============================] - 0s 7ms/step - loss: 24440.2363 - acc: 0.7375 - val_loss: 2642.0518 - val_acc: 0.6458\n",
      "Epoch 5/10\n",
      "20/20 [==============================] - 0s 6ms/step - loss: 39479.8984 - acc: 0.6531 - val_loss: 7003.0039 - val_acc: 0.6458\n",
      "Epoch 6/10\n",
      "20/20 [==============================] - 0s 6ms/step - loss: 22246.1367 - acc: 0.7594 - val_loss: 79082.9531 - val_acc: 0.7083\n",
      "Epoch 7/10\n",
      "20/20 [==============================] - 0s 6ms/step - loss: 8470.0879 - acc: 0.7750 - val_loss: 13881.5068 - val_acc: 0.7083\n",
      "Epoch 8/10\n",
      "20/20 [==============================] - 0s 7ms/step - loss: 19327.7598 - acc: 0.4844 - val_loss: 44061.5117 - val_acc: 0.7083\n",
      "Epoch 9/10\n",
      "20/20 [==============================] - 0s 7ms/step - loss: 2849.4607 - acc: 0.7406 - val_loss: 173.8406 - val_acc: 0.7083\n",
      "Epoch 10/10\n",
      "20/20 [==============================] - 0s 7ms/step - loss: 10865.3916 - acc: 0.8188 - val_loss: 7732.8579 - val_acc: 0.6458\n"
     ]
    },
    {
     "data": {
      "text/plain": [
       "<tensorflow.python.keras.callbacks.History at 0x7f6be47adfd0>"
      ]
     },
     "execution_count": 6,
     "metadata": {},
     "output_type": "execute_result"
    }
   ],
   "source": [
    "import datetime as dt\n",
    "callbacks = [\n",
    "  # Write TensorBoard logs to `./logs` directory\n",
    "  tf.keras.callbacks.TensorBoard(log_dir='./log/{}'.format(\n",
    "      dt.datetime.now().strftime(\"%Y-%m-%d-%H-%M-%S DNN\")), write_images=True),\n",
    "  ]\n",
    "model.fit(train_dataset, epochs=10, steps_per_epoch=20,\n",
    "          validation_data=valid_dataset, validation_steps=3,\n",
    "          # callbacks=callbacks\n",
    "          )"
   ]
  },
  {
   "cell_type": "markdown",
   "metadata": {},
   "source": [
    "## 预测概率"
   ]
  },
  {
   "cell_type": "code",
   "execution_count": 7,
   "metadata": {},
   "outputs": [
    {
     "name": "stdout",
     "output_type": "stream",
     "text": [
      "X_test.target.shape: (17758, 6720)\n",
      "Predicted: [[0.006 0.006 0.005 0.006 0.006 ... 0.019 0.099 0.025 0.011 0.370]] (1, 17758)\n",
      "True:       [0.000 0.000 0.000 0.000 0.000 ... 0.000 1.000 0.000 0.000 1.000] (17758,)\n"
     ]
    }
   ],
   "source": [
    "print(\"X_test.target.shape:\", X_test.target.shape)\n",
    "# X = X_test.target.reshape(X_test.target.shape[0], -1)\n",
    "# print(X.shape)\n",
    "y_pred = model.predict(X_test.target).transpose()\n",
    "print(\"Predicted:\", y_pred, y_pred.shape)\n",
    "print(\"True:      \", y_test.target, y_test.target.shape)"
   ]
  },
  {
   "cell_type": "markdown",
   "metadata": {},
   "source": [
    "## 查看Tensorboard"
   ]
  },
  {
   "cell_type": "code",
   "execution_count": 8,
   "metadata": {},
   "outputs": [
    {
     "name": "stderr",
     "output_type": "stream",
     "text": [
      "UsageError: Line magic function `%tensorboard` not found.\n"
     ]
    }
   ],
   "source": [
    "%tensorboard"
   ]
  }
 ],
 "metadata": {
  "interpreter": {
   "hash": "77a176e6d68c62f570691917117cf1b3298ba06ea1b936eeef71e844f28195b2"
  },
  "kernelspec": {
   "display_name": "Python 3.8.10 64-bit ('huawei': conda)",
   "name": "python3"
  },
  "language_info": {
   "codemirror_mode": {
    "name": "ipython",
    "version": 3
   },
   "file_extension": ".py",
   "mimetype": "text/x-python",
   "name": "python",
   "nbconvert_exporter": "python",
   "pygments_lexer": "ipython3",
   "version": "3.8.10"
  }
 },
 "nbformat": 4,
 "nbformat_minor": 5
}