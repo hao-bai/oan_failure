{
 "cells": [
  {
   "cell_type": "markdown",
   "metadata": {},
   "source": [
    "# 使用数据集的统计特征（statistics of dataset）作为输入\n",
    "## 预处理\n",
    "### 装载数据"
   ]
  },
  {
   "cell_type": "code",
   "execution_count": 2,
   "metadata": {},
   "outputs": [
    {
     "name": "stdout",
     "output_type": "stream",
     "text": [
      "==== TRAIN SET ====\n",
      "  | X_source: (46110, 11, 10) ; y_source: (46110,)\n",
      "  | \timbalance: 4769(10.3%) failure, 41341(89.7%) weak\n",
      "A | X_source_bkg: (50862, 11, 10)\n",
      "----\n",
      "  | X_target: (438, 11, 10) ; y_target: (438,)\n",
      "  | \timbalance: 89(20.3%) failure, 349(79.7%) weak\n",
      "B | X_target_bkg: (29592, 11, 10)\n",
      "  | X_target_unlabeled: (8202, 11, 10)\n",
      "==== TEST SET ====\n",
      "  | X_test.target: (17758, 11, 10) ; y_test.target: (17758,)\n",
      "  | \timbalance: 2294(12.9%) failure, 15464(87.1%) weak\n",
      "B | X_test.target_bkg: (47275, 11, 10)\n",
      "  | X_test.target_unlabeled: None\n"
     ]
    }
   ],
   "source": [
    "# np.seterr(all='warn')\n",
    "import warnings\n",
    "from scipy import stats\n",
    "\n",
    "class FeatureExtractor:\n",
    "    def transform(self, X):\n",
    "        '''\n",
    "        Parameters\n",
    "        ----------\n",
    "        `X`: ndarray of (sample, 672, 10)\n",
    "            3D input dataset(sample, time, features)\n",
    "        \n",
    "        Returns\n",
    "        -------\n",
    "        `X`: ndarray of (sample, 6720)\n",
    "            The filtered dataset\n",
    "        '''\n",
    "        X = X.astype(np.float64)\n",
    "        tmp_X = []\n",
    "        for x in X:\n",
    "            # 处理NaN数据\n",
    "            x[:, np.all(~np.isfinite(x), axis=0)] = 0 # 用0填充全部是NaN的列\n",
    "            # ------------------------------------------------------------------\n",
    "            # 计算统计量\n",
    "            _ = []\n",
    "            # There is a bug in `np.nanpercentile` which computes very slow\n",
    "            if np.any(~np.isfinite(x)) == True:\n",
    "                b = []\n",
    "                for row in x.T:\n",
    "                    tmp = row[np.isfinite(row)]\n",
    "                    pct = np.percentile(tmp, [25, 50, 75])\n",
    "                    b.append(pct)\n",
    "                b = np.array(b).T\n",
    "            else:\n",
    "                b = np.percentile(x, [25, 50, 75], axis=0)\n",
    "            _.append( b[0] ) # 一分位数@25\n",
    "            _.append( b[1] ) # 二分位数\n",
    "            _.append( b[2] ) # 三分位数@75\n",
    "\n",
    "            # with warnings.catch_warnings():\n",
    "            #     warnings.filterwarnings('error')\n",
    "            #     try:\n",
    "            _.append( np.nanmean(x, axis=0) ) # 均值\n",
    "            _.append( np.nanstd(x, axis=0)) # 标准差\n",
    "            _.append( np.nanmax(x, axis=0) ) # 最大值\n",
    "            _.append( np.nanmin(x, axis=0) ) # 最小值\n",
    "            _.append( stats.mode(x, axis=0, nan_policy=\"omit\")[0][0]) # 众数\n",
    "            _.append( stats.kurtosis(x, axis=0, nan_policy=\"omit\", fisher=False)) # 峰度 # RuntimeWarning: overflow => change type to np.float64\n",
    "            _.append( stats.skew(x, axis=0, nan_policy=\"omit\")) # 偏度\n",
    "            _.append( np.sum(np.isfinite(x), axis=0)/x.shape[0] ) # 有效值数量占比\n",
    "                # except Warning as e:\n",
    "                #     print(\"x is\", x.shape)\n",
    "                #     print(\"_ is\", len(_))\n",
    "                #     TEST = x\n",
    "                #     raise e\n",
    "            # ------------------------------------------------------------------\n",
    "            # 加入第3维数组\n",
    "            tmp_X.append( np.array(_) )\n",
    "            # tmp_X.append( x )\n",
    "        X = np.array(tmp_X)\n",
    "\n",
    "        # flatten\n",
    "        # X = X.reshape(X.shape[0], -1) # required for outlier detection\n",
    "        return X\n"
   ]
  },
  {
   "cell_type": "markdown",
   "metadata": {},
   "source": [
    "\n",
    "1. 读取原始数据"
   ]
  },
  {
   "cell_type": "code",
   "execution_count": 2,
   "metadata": {},
   "outputs": [
    {
     "name": "stdout",
     "output_type": "stream",
     "text": [
      "Train data\n",
      "Test data\n"
     ]
    },
    {
     "ename": "NameError",
     "evalue": "name 'FeatureExtractor' is not defined",
     "output_type": "error",
     "traceback": [
      "\u001b[0;31m---------------------------------------------------------------------------\u001b[0m",
      "\u001b[0;31mNameError\u001b[0m                                 Traceback (most recent call last)",
      "\u001b[0;32m<ipython-input-2-88403952d570>\u001b[0m in \u001b[0;36m<module>\u001b[0;34m\u001b[0m\n\u001b[1;32m      6\u001b[0m                     formatter={\"float\":lambda x: \"{:.3f}\".format(x)})\n\u001b[1;32m      7\u001b[0m \u001b[0;34m\u001b[0m\u001b[0m\n\u001b[0;32m----> 8\u001b[0;31m \u001b[0mfe\u001b[0m \u001b[0;34m=\u001b[0m \u001b[0mFeatureExtractor\u001b[0m\u001b[0;34m(\u001b[0m\u001b[0;34m)\u001b[0m\u001b[0;34m\u001b[0m\u001b[0;34m\u001b[0m\u001b[0m\n\u001b[0m\u001b[1;32m      9\u001b[0m \u001b[0;31m# X_source = fe.transform(X_train.source)\u001b[0m\u001b[0;34m\u001b[0m\u001b[0;34m\u001b[0m\u001b[0;34m\u001b[0m\u001b[0m\n\u001b[1;32m     10\u001b[0m \u001b[0;31m# np.all(np.isfinite(X_source)) # expected True\u001b[0m\u001b[0;34m\u001b[0m\u001b[0;34m\u001b[0m\u001b[0;34m\u001b[0m\u001b[0m\n",
      "\u001b[0;31mNameError\u001b[0m: name 'FeatureExtractor' is not defined"
     ]
    }
   ],
   "source": [
    "from others import load_all_dataset, rename_dataset\n",
    "X_train, y_train, X_test, y_test = load_all_dataset(show=False)\n",
    "import numpy as np\n",
    "np.set_printoptions(edgeitems=5,\n",
    "                    linewidth=1000,\n",
    "                    formatter={\"float\":lambda x: \"{:.3f}\".format(x)})\n",
    "\n",
    "fe = FeatureExtractor()\n",
    "# X_source = fe.transform(X_train.source)\n",
    "# np.all(np.isfinite(X_source)) # expected True\n",
    "[X_source, X_source_bkg, X_target, X_target_unlabeled, X_target_bkg,\n",
    "    y_source, y_target, X_test] = rename_dataset(\n",
    "    fe, X_train, y_train, X_test, y_test, show_imbalance=True)"
   ]
  },
  {
   "cell_type": "markdown",
   "metadata": {},
   "source": [
    "2. 读取统计数据"
   ]
  },
  {
   "cell_type": "code",
   "execution_count": 23,
   "metadata": {},
   "outputs": [
    {
     "name": "stdout",
     "output_type": "stream",
     "text": [
      "True\n",
      "True\n",
      "True\n",
      "True\n",
      "True\n",
      "True\n",
      "True\n"
     ]
    }
   ],
   "source": [
    "# 把统计数值保存到硬盘，已检查所有array里面的数值都是finite\n",
    "# np.save(\"./data_stats/X_source\", X_source)\n",
    "# np.save(\"./data_stats/X_source_bkg\", X_source_bkg)\n",
    "# np.save(\"./data_stats/X_target\", X_target)\n",
    "# np.save(\"./data_stats/X_target_unlabeled\", X_target_unlabeled)\n",
    "# np.save(\"./data_stats/X_target_bkg\", X_target_bkg)\n",
    "# np.save(\"./data_stats/y_source\", y_source)\n",
    "# np.save(\"./data_stats/y_target\", y_target)"
   ]
  },
  {
   "cell_type": "code",
   "execution_count": 19,
   "metadata": {},
   "outputs": [],
   "source": [
    "X_source = np.load(\"./data_stats/X_source.npy\")\n",
    "X_source_bkg = np.load(\"./data_stats/X_source_bkg.npy\")\n",
    "X_target = np.load(\"./data_stats/X_target.npy\")\n",
    "X_target_unlabeled = np.load(\"./data_stats/X_target_unlabeled.npy\")\n",
    "X_target_bkg = np.load(\"./data_stats/X_target_bkg.npy\")\n",
    "y_source = np.load(\"./data_stats/y_source.npy\")\n",
    "y_target = np.load(\"./data_stats/y_target.npy\")\n",
    "\n",
    "fe = FeatureExtractor()\n",
    "X_test.target = fe.transform(X_test.target)\n",
    "X_test.target_bkg = fe.transform(X_test.target_bkg)"
   ]
  },
  {
   "cell_type": "markdown",
   "metadata": {},
   "source": [
    "### 整理数据（Normalization, Oversampling, ...)"
   ]
  },
  {
   "cell_type": "code",
   "execution_count": 27,
   "metadata": {},
   "outputs": [],
   "source": [
    "X_source = X_source.reshape(X_source.shape[0], -1)\n",
    "X_source_bkg = X_source_bkg.reshape(X_source_bkg.shape[0], -1)\n",
    "X_target = X_target.reshape(X_target.shape[0], -1)\n",
    "X_target_unlabeled = X_target_unlabeled.reshape(X_target_unlabeled.shape[0], -1)\n",
    "X_target_bkg = X_target_bkg.reshape(X_target_bkg.shape[0], -1)\n",
    "X_test.target = X_test.target.reshape(X_test.target.shape[0], -1)\n",
    "X_test.target_bkg = X_test.target_bkg.reshape(X_test.target_bkg.shape[0], -1)"
   ]
  },
  {
   "cell_type": "markdown",
   "metadata": {},
   "source": [
    "## 搭建模型"
   ]
  },
  {
   "cell_type": "code",
   "execution_count": 24,
   "metadata": {},
   "outputs": [],
   "source": [
    "from sklearn.ensemble import RandomForestClassifier\n",
    "\n",
    "model_RF = RandomForestClassifier(\n",
    "    n_estimators=2, max_depth=2, random_state=44, n_jobs=-1)"
   ]
  },
  {
   "cell_type": "code",
   "execution_count": 28,
   "metadata": {},
   "outputs": [
    {
     "data": {
      "text/plain": [
       "RandomForestClassifier(max_depth=2, n_estimators=2, n_jobs=-1, random_state=44)"
      ]
     },
     "execution_count": 28,
     "metadata": {},
     "output_type": "execute_result"
    }
   ],
   "source": [
    "# model_DT.fit(X_source, y_source)\n",
    "model_RF.fit(X_source, y_source)"
   ]
  },
  {
   "cell_type": "markdown",
   "metadata": {},
   "source": [
    "## 使用模型"
   ]
  },
  {
   "cell_type": "code",
   "execution_count": 29,
   "metadata": {},
   "outputs": [
    {
     "name": "stdout",
     "output_type": "stream",
     "text": [
      "X_test.target.shape: (17758, 110)\n",
      "[train: B] Random Forest: 0.7922374429223744\n",
      "[test:  B] Random Forest: 0.8645117693433946\n",
      "Predicted: Counter({0.0: 17542, 1.0: 216}) (17758,)\n",
      "True:       Counter({0.0: 15464, 1.0: 2294}) (17758,)\n"
     ]
    }
   ],
   "source": [
    "from collections import Counter\n",
    "print(\"X_test.target.shape:\", X_test.target.shape)\n",
    "\n",
    "print(\"[train: B] Random Forest:\", model_RF.score(X_target, y_target))\n",
    "print(\"[test:  B] Random Forest:\", model_RF.score(X_test.target, y_test.target))\n",
    "y_pred = model_RF.predict(X_test.target)\n",
    "print(\"Predicted:\", Counter(y_pred), y_pred.shape)\n",
    "print(\"True:      \", Counter(y_test.target), y_test.target.shape)\n",
    "exit()"
   ]
  },
  {
   "cell_type": "markdown",
   "metadata": {},
   "source": [
    "# 检验模型"
   ]
  },
  {
   "cell_type": "code",
   "execution_count": null,
   "metadata": {},
   "outputs": [],
   "source": [
    "import rampwf as rw\n",
    "import numpy as np\n",
    "from others import cd\n",
    "\n",
    "# 载入数据\n",
    "with cd(\"~/Codes/HuaweiRAMP\"):\n",
    "    problem = rw.utils.assert_read_problem()\n",
    "    X_train, y_train = problem.get_train_data(show=False)\n",
    "    X_test, y_test = problem.get_test_data(show=False)\n",
    "    \n",
    "# 导入评价函数\n",
    "ap    = problem.score_types[0]\n",
    "# 设置crossvalidation\n",
    "splits = problem.get_cv(X_train, y_train, n_splits=10) # 默认10\n",
    "\n",
    "# 开始实验\n",
    "ap_train, ap_valid, ap_test, = [], [], []\n",
    "y_test_preds = []\n",
    "for fold_i, (train_is, valid_is) in enumerate(splits):\n",
    "    trained_workflow = problem.workflow.train_submission(\n",
    "        '.', X_train, y_train, train_is, sampling_strategy=ss)\n",
    "    X_fold_train = X_train.slice(train_is)\n",
    "    X_fold_valid = X_train.slice(valid_is)\n",
    "    \n",
    "    y_train_pred = problem.workflow.test_submission(trained_workflow, X_fold_train)\n",
    "    y_valid_pred = problem.workflow.test_submission(trained_workflow, X_fold_valid)\n",
    "    y_test_pred = problem.workflow.test_submission(trained_workflow, X_test)\n",
    "    ap_train.append( ap(y_train.slice(train_is).target, y_train_pred[:,1]) )\n",
    "    ap_valid.append( ap(y_train.slice(valid_is).target, y_valid_pred[:,1]) )\n",
    "    ap_test.append( ap(y_test.target, y_test_pred[:,1]) )\n",
    "    print('-------------------------------------')\n",
    "    print('training ap on fold {} = {:.3f}'.format(fold_i, ap_train[-1]))\n",
    "    print('validation ap on fold {} = {:.3f}'.format(fold_i, ap_valid[-1]))\n",
    "    print('test ap on fold {} = {:.3f}'.format(fold_i, ap_test[-1]))\n",
    "    \n",
    "    y_test_preds.append(y_test_pred)\n",
    "\n",
    "# 计算排名指标: bagged average precision on test dataset\n",
    "ap_bagged_test.append(\n",
    "    ap(y_test.target, np.array([y_test_pred for y_test_pred in y_test_preds]).mean(axis=0)[:,1]))\n",
    "print('{}: Bagged ap score = {}'.format(ss, ap_bagged_test[-1]))"
   ]
  },
  {
   "cell_type": "markdown",
   "metadata": {},
   "source": [
    "# 调试超参\n",
    "直接使用华为提供的比赛工具包来评价模型"
   ]
  },
  {
   "cell_type": "code",
   "execution_count": null,
   "metadata": {},
   "outputs": [],
   "source": [
    "import rampwf as rw\n",
    "import numpy as np\n",
    "from others import cd\n",
    "\n",
    "hp_range = np.arange(0.2, 1.1, 0.1)\n",
    "ap_bagged_test = []\n",
    "\n",
    "for ss in hp_range:\n",
    "    # 载入数据\n",
    "    with cd(\"~/Codes/HuaweiRAMP\"):\n",
    "        problem = rw.utils.assert_read_problem()\n",
    "        X_train, y_train = problem.get_train_data(show=False)\n",
    "        X_test, y_test = problem.get_test_data(show=False)\n",
    "    # 导入评价函数\n",
    "    ap    = problem.score_types[0]\n",
    "    # 设置crossvalidation\n",
    "    splits = problem.get_cv(X_train, y_train, n_splits=10) # 默认10\n",
    "    # 开始实验\n",
    "    ap_train, ap_valid, ap_test, = [], [], []\n",
    "    y_test_preds = []\n",
    "    for fold_i, (train_is, valid_is) in enumerate(splits):\n",
    "        trained_workflow = problem.workflow.train_submission(\n",
    "            '.', X_train, y_train, train_is, sampling_strategy=ss)\n",
    "        X_fold_train = X_train.slice(train_is)\n",
    "        X_fold_valid = X_train.slice(valid_is)\n",
    "        \n",
    "        y_train_pred = problem.workflow.test_submission(trained_workflow, X_fold_train)\n",
    "        y_valid_pred = problem.workflow.test_submission(trained_workflow, X_fold_valid)\n",
    "        y_test_pred = problem.workflow.test_submission(trained_workflow, X_test)\n",
    "        ap_train.append( ap(y_train.slice(train_is).target, y_train_pred[:,1]) )\n",
    "        ap_valid.append( ap(y_train.slice(valid_is).target, y_valid_pred[:,1]) )\n",
    "        ap_test.append( ap(y_test.target, y_test_pred[:,1]) )\n",
    "        # print('-------------------------------------')\n",
    "        # print('training ap on fold {} = {:.3f}'.format(fold_i, ap_train[-1]))\n",
    "        # print('validation ap on fold {} = {:.3f}'.format(fold_i, ap_valid[-1]))\n",
    "        # print('test ap on fold {} = {:.3f}'.format(fold_i, ap_test[-1]))\n",
    "        \n",
    "        y_test_preds.append(y_test_pred)\n",
    "\n",
    "    # 计算排名指标: bagged average precision on test dataset\n",
    "    ap_bagged_test.append(\n",
    "        ap(y_test.target, np.array([y_test_pred for y_test_pred in y_test_preds]).mean(axis=0)[:,1]))\n",
    "    print('{}: Bagged ap score = {}'.format(ss, ap_bagged_test[-1]))\n",
    "    del problem, X_train, y_train, X_test, y_test, ap, splits, y_test_preds"
   ]
  },
  {
   "cell_type": "markdown",
   "metadata": {},
   "source": [
    "## 画图"
   ]
  },
  {
   "cell_type": "code",
   "execution_count": null,
   "metadata": {},
   "outputs": [],
   "source": [
    "import plotly.graph_objects as go\n",
    "from plotly.subplots import make_subplots\n",
    "\n",
    "fig = make_subplots()\n",
    "fig.add_trace(go.Scatter(x=hp_range, y=ap_bagged_test, mode=\"lines\",\n",
    "                         name=\"sampling_strategy\"))\n",
    "fig.update_layout(xaxis_title=\"Hyperparameter\", yaxis_title=\"Bagged ap\")\n",
    "fig.show()"
   ]
  }
 ],
 "metadata": {
  "interpreter": {
   "hash": "77a176e6d68c62f570691917117cf1b3298ba06ea1b936eeef71e844f28195b2"
  },
  "kernelspec": {
   "display_name": "Python 3.8.10 64-bit ('huawei': conda)",
   "name": "python3"
  },
  "language_info": {
   "codemirror_mode": {
    "name": "ipython",
    "version": 3
   },
   "file_extension": ".py",
   "mimetype": "text/x-python",
   "name": "python",
   "nbconvert_exporter": "python",
   "pygments_lexer": "ipython3",
   "version": "3.8.10"
  }
 },
 "nbformat": 4,
 "nbformat_minor": 5
}